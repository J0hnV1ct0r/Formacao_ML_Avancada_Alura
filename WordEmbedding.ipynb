{
  "nbformat": 4,
  "nbformat_minor": 0,
  "metadata": {
    "colab": {
      "provenance": [],
      "mount_file_id": "1r5HNpteUT2CPyPg8pz5T_k2yvYY1Y3vE",
      "authorship_tag": "ABX9TyPoCgYP/OIN6r1zj625Z0bu",
      "include_colab_link": true
    },
    "kernelspec": {
      "name": "python3",
      "display_name": "Python 3"
    },
    "language_info": {
      "name": "python"
    }
  },
  "cells": [
    {
      "cell_type": "markdown",
      "metadata": {
        "id": "view-in-github",
        "colab_type": "text"
      },
      "source": [
        "<a href=\"https://colab.research.google.com/github/J0hnV1ct0r/Formacao_ML_Avancada_Alura/blob/main/WordEmbedding.ipynb\" target=\"_parent\"><img src=\"https://colab.research.google.com/assets/colab-badge.svg\" alt=\"Open In Colab\"/></a>"
      ]
    },
    {
      "cell_type": "markdown",
      "source": [
        "# Dados"
      ],
      "metadata": {
        "id": "sl18QPYjV2bf"
      }
    },
    {
      "cell_type": "code",
      "source": [
        "import pandas as pd"
      ],
      "metadata": {
        "id": "KPoJtLdPSpaB"
      },
      "execution_count": 1,
      "outputs": []
    },
    {
      "cell_type": "code",
      "execution_count": 2,
      "metadata": {
        "id": "2B5dBb_QNwTE"
      },
      "outputs": [],
      "source": [
        "artigo_treino = pd.read_csv(\"/content/drive/MyDrive/alura/treino.csv\")"
      ]
    },
    {
      "cell_type": "code",
      "source": [
        "artigo_teste = pd.read_csv(\"/content/drive/MyDrive/alura/teste.csv\")"
      ],
      "metadata": {
        "id": "C_HCHXNhSsoy"
      },
      "execution_count": 3,
      "outputs": []
    },
    {
      "cell_type": "code",
      "source": [
        "len(artigo_treino)"
      ],
      "metadata": {
        "colab": {
          "base_uri": "https://localhost:8080/"
        },
        "id": "DLGUbNyzSwmk",
        "outputId": "1c79d1f7-ac48-419f-8c70-b4c4b191fec6"
      },
      "execution_count": 4,
      "outputs": [
        {
          "output_type": "execute_result",
          "data": {
            "text/plain": [
              "90000"
            ]
          },
          "metadata": {},
          "execution_count": 4
        }
      ]
    },
    {
      "cell_type": "code",
      "source": [
        "len(artigo_teste)"
      ],
      "metadata": {
        "colab": {
          "base_uri": "https://localhost:8080/"
        },
        "id": "0AaDDh8_UrO7",
        "outputId": "ec1d829b-72e8-48fd-c0ac-d816bd4ed4aa"
      },
      "execution_count": 5,
      "outputs": [
        {
          "output_type": "execute_result",
          "data": {
            "text/plain": [
              "20513"
            ]
          },
          "metadata": {},
          "execution_count": 5
        }
      ]
    },
    {
      "cell_type": "markdown",
      "source": [
        "# One-hot-enconding"
      ],
      "metadata": {
        "id": "QzMpKGIMa_aF"
      }
    },
    {
      "cell_type": "code",
      "source": [
        "from sklearn.feature_extraction.text import CountVectorizer"
      ],
      "metadata": {
        "id": "V8kxyDwRbS9P"
      },
      "execution_count": 6,
      "outputs": []
    },
    {
      "cell_type": "code",
      "source": [
        "texto = [\"tenha um bom dia\", \"tenha um péssimo dia\", \"tenha um ótimo dia\",\"tenha um dia ruim\"]\n",
        "vetorizador = CountVectorizer()\n",
        "vetorizador.fit(texto)"
      ],
      "metadata": {
        "colab": {
          "base_uri": "https://localhost:8080/",
          "height": 0
        },
        "id": "9RjCGxy0bXbF",
        "outputId": "43f7eb06-bf59-43e0-dbac-26e9567ff371"
      },
      "execution_count": 7,
      "outputs": [
        {
          "output_type": "execute_result",
          "data": {
            "text/plain": [
              "CountVectorizer()"
            ],
            "text/html": [
              "<style>#sk-container-id-1 {\n",
              "  /* Definition of color scheme common for light and dark mode */\n",
              "  --sklearn-color-text: black;\n",
              "  --sklearn-color-line: gray;\n",
              "  /* Definition of color scheme for unfitted estimators */\n",
              "  --sklearn-color-unfitted-level-0: #fff5e6;\n",
              "  --sklearn-color-unfitted-level-1: #f6e4d2;\n",
              "  --sklearn-color-unfitted-level-2: #ffe0b3;\n",
              "  --sklearn-color-unfitted-level-3: chocolate;\n",
              "  /* Definition of color scheme for fitted estimators */\n",
              "  --sklearn-color-fitted-level-0: #f0f8ff;\n",
              "  --sklearn-color-fitted-level-1: #d4ebff;\n",
              "  --sklearn-color-fitted-level-2: #b3dbfd;\n",
              "  --sklearn-color-fitted-level-3: cornflowerblue;\n",
              "\n",
              "  /* Specific color for light theme */\n",
              "  --sklearn-color-text-on-default-background: var(--sg-text-color, var(--theme-code-foreground, var(--jp-content-font-color1, black)));\n",
              "  --sklearn-color-background: var(--sg-background-color, var(--theme-background, var(--jp-layout-color0, white)));\n",
              "  --sklearn-color-border-box: var(--sg-text-color, var(--theme-code-foreground, var(--jp-content-font-color1, black)));\n",
              "  --sklearn-color-icon: #696969;\n",
              "\n",
              "  @media (prefers-color-scheme: dark) {\n",
              "    /* Redefinition of color scheme for dark theme */\n",
              "    --sklearn-color-text-on-default-background: var(--sg-text-color, var(--theme-code-foreground, var(--jp-content-font-color1, white)));\n",
              "    --sklearn-color-background: var(--sg-background-color, var(--theme-background, var(--jp-layout-color0, #111)));\n",
              "    --sklearn-color-border-box: var(--sg-text-color, var(--theme-code-foreground, var(--jp-content-font-color1, white)));\n",
              "    --sklearn-color-icon: #878787;\n",
              "  }\n",
              "}\n",
              "\n",
              "#sk-container-id-1 {\n",
              "  color: var(--sklearn-color-text);\n",
              "}\n",
              "\n",
              "#sk-container-id-1 pre {\n",
              "  padding: 0;\n",
              "}\n",
              "\n",
              "#sk-container-id-1 input.sk-hidden--visually {\n",
              "  border: 0;\n",
              "  clip: rect(1px 1px 1px 1px);\n",
              "  clip: rect(1px, 1px, 1px, 1px);\n",
              "  height: 1px;\n",
              "  margin: -1px;\n",
              "  overflow: hidden;\n",
              "  padding: 0;\n",
              "  position: absolute;\n",
              "  width: 1px;\n",
              "}\n",
              "\n",
              "#sk-container-id-1 div.sk-dashed-wrapped {\n",
              "  border: 1px dashed var(--sklearn-color-line);\n",
              "  margin: 0 0.4em 0.5em 0.4em;\n",
              "  box-sizing: border-box;\n",
              "  padding-bottom: 0.4em;\n",
              "  background-color: var(--sklearn-color-background);\n",
              "}\n",
              "\n",
              "#sk-container-id-1 div.sk-container {\n",
              "  /* jupyter's `normalize.less` sets `[hidden] { display: none; }`\n",
              "     but bootstrap.min.css set `[hidden] { display: none !important; }`\n",
              "     so we also need the `!important` here to be able to override the\n",
              "     default hidden behavior on the sphinx rendered scikit-learn.org.\n",
              "     See: https://github.com/scikit-learn/scikit-learn/issues/21755 */\n",
              "  display: inline-block !important;\n",
              "  position: relative;\n",
              "}\n",
              "\n",
              "#sk-container-id-1 div.sk-text-repr-fallback {\n",
              "  display: none;\n",
              "}\n",
              "\n",
              "div.sk-parallel-item,\n",
              "div.sk-serial,\n",
              "div.sk-item {\n",
              "  /* draw centered vertical line to link estimators */\n",
              "  background-image: linear-gradient(var(--sklearn-color-text-on-default-background), var(--sklearn-color-text-on-default-background));\n",
              "  background-size: 2px 100%;\n",
              "  background-repeat: no-repeat;\n",
              "  background-position: center center;\n",
              "}\n",
              "\n",
              "/* Parallel-specific style estimator block */\n",
              "\n",
              "#sk-container-id-1 div.sk-parallel-item::after {\n",
              "  content: \"\";\n",
              "  width: 100%;\n",
              "  border-bottom: 2px solid var(--sklearn-color-text-on-default-background);\n",
              "  flex-grow: 1;\n",
              "}\n",
              "\n",
              "#sk-container-id-1 div.sk-parallel {\n",
              "  display: flex;\n",
              "  align-items: stretch;\n",
              "  justify-content: center;\n",
              "  background-color: var(--sklearn-color-background);\n",
              "  position: relative;\n",
              "}\n",
              "\n",
              "#sk-container-id-1 div.sk-parallel-item {\n",
              "  display: flex;\n",
              "  flex-direction: column;\n",
              "}\n",
              "\n",
              "#sk-container-id-1 div.sk-parallel-item:first-child::after {\n",
              "  align-self: flex-end;\n",
              "  width: 50%;\n",
              "}\n",
              "\n",
              "#sk-container-id-1 div.sk-parallel-item:last-child::after {\n",
              "  align-self: flex-start;\n",
              "  width: 50%;\n",
              "}\n",
              "\n",
              "#sk-container-id-1 div.sk-parallel-item:only-child::after {\n",
              "  width: 0;\n",
              "}\n",
              "\n",
              "/* Serial-specific style estimator block */\n",
              "\n",
              "#sk-container-id-1 div.sk-serial {\n",
              "  display: flex;\n",
              "  flex-direction: column;\n",
              "  align-items: center;\n",
              "  background-color: var(--sklearn-color-background);\n",
              "  padding-right: 1em;\n",
              "  padding-left: 1em;\n",
              "}\n",
              "\n",
              "\n",
              "/* Toggleable style: style used for estimator/Pipeline/ColumnTransformer box that is\n",
              "clickable and can be expanded/collapsed.\n",
              "- Pipeline and ColumnTransformer use this feature and define the default style\n",
              "- Estimators will overwrite some part of the style using the `sk-estimator` class\n",
              "*/\n",
              "\n",
              "/* Pipeline and ColumnTransformer style (default) */\n",
              "\n",
              "#sk-container-id-1 div.sk-toggleable {\n",
              "  /* Default theme specific background. It is overwritten whether we have a\n",
              "  specific estimator or a Pipeline/ColumnTransformer */\n",
              "  background-color: var(--sklearn-color-background);\n",
              "}\n",
              "\n",
              "/* Toggleable label */\n",
              "#sk-container-id-1 label.sk-toggleable__label {\n",
              "  cursor: pointer;\n",
              "  display: block;\n",
              "  width: 100%;\n",
              "  margin-bottom: 0;\n",
              "  padding: 0.5em;\n",
              "  box-sizing: border-box;\n",
              "  text-align: center;\n",
              "}\n",
              "\n",
              "#sk-container-id-1 label.sk-toggleable__label-arrow:before {\n",
              "  /* Arrow on the left of the label */\n",
              "  content: \"▸\";\n",
              "  float: left;\n",
              "  margin-right: 0.25em;\n",
              "  color: var(--sklearn-color-icon);\n",
              "}\n",
              "\n",
              "#sk-container-id-1 label.sk-toggleable__label-arrow:hover:before {\n",
              "  color: var(--sklearn-color-text);\n",
              "}\n",
              "\n",
              "/* Toggleable content - dropdown */\n",
              "\n",
              "#sk-container-id-1 div.sk-toggleable__content {\n",
              "  max-height: 0;\n",
              "  max-width: 0;\n",
              "  overflow: hidden;\n",
              "  text-align: left;\n",
              "  /* unfitted */\n",
              "  background-color: var(--sklearn-color-unfitted-level-0);\n",
              "}\n",
              "\n",
              "#sk-container-id-1 div.sk-toggleable__content.fitted {\n",
              "  /* fitted */\n",
              "  background-color: var(--sklearn-color-fitted-level-0);\n",
              "}\n",
              "\n",
              "#sk-container-id-1 div.sk-toggleable__content pre {\n",
              "  margin: 0.2em;\n",
              "  border-radius: 0.25em;\n",
              "  color: var(--sklearn-color-text);\n",
              "  /* unfitted */\n",
              "  background-color: var(--sklearn-color-unfitted-level-0);\n",
              "}\n",
              "\n",
              "#sk-container-id-1 div.sk-toggleable__content.fitted pre {\n",
              "  /* unfitted */\n",
              "  background-color: var(--sklearn-color-fitted-level-0);\n",
              "}\n",
              "\n",
              "#sk-container-id-1 input.sk-toggleable__control:checked~div.sk-toggleable__content {\n",
              "  /* Expand drop-down */\n",
              "  max-height: 200px;\n",
              "  max-width: 100%;\n",
              "  overflow: auto;\n",
              "}\n",
              "\n",
              "#sk-container-id-1 input.sk-toggleable__control:checked~label.sk-toggleable__label-arrow:before {\n",
              "  content: \"▾\";\n",
              "}\n",
              "\n",
              "/* Pipeline/ColumnTransformer-specific style */\n",
              "\n",
              "#sk-container-id-1 div.sk-label input.sk-toggleable__control:checked~label.sk-toggleable__label {\n",
              "  color: var(--sklearn-color-text);\n",
              "  background-color: var(--sklearn-color-unfitted-level-2);\n",
              "}\n",
              "\n",
              "#sk-container-id-1 div.sk-label.fitted input.sk-toggleable__control:checked~label.sk-toggleable__label {\n",
              "  background-color: var(--sklearn-color-fitted-level-2);\n",
              "}\n",
              "\n",
              "/* Estimator-specific style */\n",
              "\n",
              "/* Colorize estimator box */\n",
              "#sk-container-id-1 div.sk-estimator input.sk-toggleable__control:checked~label.sk-toggleable__label {\n",
              "  /* unfitted */\n",
              "  background-color: var(--sklearn-color-unfitted-level-2);\n",
              "}\n",
              "\n",
              "#sk-container-id-1 div.sk-estimator.fitted input.sk-toggleable__control:checked~label.sk-toggleable__label {\n",
              "  /* fitted */\n",
              "  background-color: var(--sklearn-color-fitted-level-2);\n",
              "}\n",
              "\n",
              "#sk-container-id-1 div.sk-label label.sk-toggleable__label,\n",
              "#sk-container-id-1 div.sk-label label {\n",
              "  /* The background is the default theme color */\n",
              "  color: var(--sklearn-color-text-on-default-background);\n",
              "}\n",
              "\n",
              "/* On hover, darken the color of the background */\n",
              "#sk-container-id-1 div.sk-label:hover label.sk-toggleable__label {\n",
              "  color: var(--sklearn-color-text);\n",
              "  background-color: var(--sklearn-color-unfitted-level-2);\n",
              "}\n",
              "\n",
              "/* Label box, darken color on hover, fitted */\n",
              "#sk-container-id-1 div.sk-label.fitted:hover label.sk-toggleable__label.fitted {\n",
              "  color: var(--sklearn-color-text);\n",
              "  background-color: var(--sklearn-color-fitted-level-2);\n",
              "}\n",
              "\n",
              "/* Estimator label */\n",
              "\n",
              "#sk-container-id-1 div.sk-label label {\n",
              "  font-family: monospace;\n",
              "  font-weight: bold;\n",
              "  display: inline-block;\n",
              "  line-height: 1.2em;\n",
              "}\n",
              "\n",
              "#sk-container-id-1 div.sk-label-container {\n",
              "  text-align: center;\n",
              "}\n",
              "\n",
              "/* Estimator-specific */\n",
              "#sk-container-id-1 div.sk-estimator {\n",
              "  font-family: monospace;\n",
              "  border: 1px dotted var(--sklearn-color-border-box);\n",
              "  border-radius: 0.25em;\n",
              "  box-sizing: border-box;\n",
              "  margin-bottom: 0.5em;\n",
              "  /* unfitted */\n",
              "  background-color: var(--sklearn-color-unfitted-level-0);\n",
              "}\n",
              "\n",
              "#sk-container-id-1 div.sk-estimator.fitted {\n",
              "  /* fitted */\n",
              "  background-color: var(--sklearn-color-fitted-level-0);\n",
              "}\n",
              "\n",
              "/* on hover */\n",
              "#sk-container-id-1 div.sk-estimator:hover {\n",
              "  /* unfitted */\n",
              "  background-color: var(--sklearn-color-unfitted-level-2);\n",
              "}\n",
              "\n",
              "#sk-container-id-1 div.sk-estimator.fitted:hover {\n",
              "  /* fitted */\n",
              "  background-color: var(--sklearn-color-fitted-level-2);\n",
              "}\n",
              "\n",
              "/* Specification for estimator info (e.g. \"i\" and \"?\") */\n",
              "\n",
              "/* Common style for \"i\" and \"?\" */\n",
              "\n",
              ".sk-estimator-doc-link,\n",
              "a:link.sk-estimator-doc-link,\n",
              "a:visited.sk-estimator-doc-link {\n",
              "  float: right;\n",
              "  font-size: smaller;\n",
              "  line-height: 1em;\n",
              "  font-family: monospace;\n",
              "  background-color: var(--sklearn-color-background);\n",
              "  border-radius: 1em;\n",
              "  height: 1em;\n",
              "  width: 1em;\n",
              "  text-decoration: none !important;\n",
              "  margin-left: 1ex;\n",
              "  /* unfitted */\n",
              "  border: var(--sklearn-color-unfitted-level-1) 1pt solid;\n",
              "  color: var(--sklearn-color-unfitted-level-1);\n",
              "}\n",
              "\n",
              ".sk-estimator-doc-link.fitted,\n",
              "a:link.sk-estimator-doc-link.fitted,\n",
              "a:visited.sk-estimator-doc-link.fitted {\n",
              "  /* fitted */\n",
              "  border: var(--sklearn-color-fitted-level-1) 1pt solid;\n",
              "  color: var(--sklearn-color-fitted-level-1);\n",
              "}\n",
              "\n",
              "/* On hover */\n",
              "div.sk-estimator:hover .sk-estimator-doc-link:hover,\n",
              ".sk-estimator-doc-link:hover,\n",
              "div.sk-label-container:hover .sk-estimator-doc-link:hover,\n",
              ".sk-estimator-doc-link:hover {\n",
              "  /* unfitted */\n",
              "  background-color: var(--sklearn-color-unfitted-level-3);\n",
              "  color: var(--sklearn-color-background);\n",
              "  text-decoration: none;\n",
              "}\n",
              "\n",
              "div.sk-estimator.fitted:hover .sk-estimator-doc-link.fitted:hover,\n",
              ".sk-estimator-doc-link.fitted:hover,\n",
              "div.sk-label-container:hover .sk-estimator-doc-link.fitted:hover,\n",
              ".sk-estimator-doc-link.fitted:hover {\n",
              "  /* fitted */\n",
              "  background-color: var(--sklearn-color-fitted-level-3);\n",
              "  color: var(--sklearn-color-background);\n",
              "  text-decoration: none;\n",
              "}\n",
              "\n",
              "/* Span, style for the box shown on hovering the info icon */\n",
              ".sk-estimator-doc-link span {\n",
              "  display: none;\n",
              "  z-index: 9999;\n",
              "  position: relative;\n",
              "  font-weight: normal;\n",
              "  right: .2ex;\n",
              "  padding: .5ex;\n",
              "  margin: .5ex;\n",
              "  width: min-content;\n",
              "  min-width: 20ex;\n",
              "  max-width: 50ex;\n",
              "  color: var(--sklearn-color-text);\n",
              "  box-shadow: 2pt 2pt 4pt #999;\n",
              "  /* unfitted */\n",
              "  background: var(--sklearn-color-unfitted-level-0);\n",
              "  border: .5pt solid var(--sklearn-color-unfitted-level-3);\n",
              "}\n",
              "\n",
              ".sk-estimator-doc-link.fitted span {\n",
              "  /* fitted */\n",
              "  background: var(--sklearn-color-fitted-level-0);\n",
              "  border: var(--sklearn-color-fitted-level-3);\n",
              "}\n",
              "\n",
              ".sk-estimator-doc-link:hover span {\n",
              "  display: block;\n",
              "}\n",
              "\n",
              "/* \"?\"-specific style due to the `<a>` HTML tag */\n",
              "\n",
              "#sk-container-id-1 a.estimator_doc_link {\n",
              "  float: right;\n",
              "  font-size: 1rem;\n",
              "  line-height: 1em;\n",
              "  font-family: monospace;\n",
              "  background-color: var(--sklearn-color-background);\n",
              "  border-radius: 1rem;\n",
              "  height: 1rem;\n",
              "  width: 1rem;\n",
              "  text-decoration: none;\n",
              "  /* unfitted */\n",
              "  color: var(--sklearn-color-unfitted-level-1);\n",
              "  border: var(--sklearn-color-unfitted-level-1) 1pt solid;\n",
              "}\n",
              "\n",
              "#sk-container-id-1 a.estimator_doc_link.fitted {\n",
              "  /* fitted */\n",
              "  border: var(--sklearn-color-fitted-level-1) 1pt solid;\n",
              "  color: var(--sklearn-color-fitted-level-1);\n",
              "}\n",
              "\n",
              "/* On hover */\n",
              "#sk-container-id-1 a.estimator_doc_link:hover {\n",
              "  /* unfitted */\n",
              "  background-color: var(--sklearn-color-unfitted-level-3);\n",
              "  color: var(--sklearn-color-background);\n",
              "  text-decoration: none;\n",
              "}\n",
              "\n",
              "#sk-container-id-1 a.estimator_doc_link.fitted:hover {\n",
              "  /* fitted */\n",
              "  background-color: var(--sklearn-color-fitted-level-3);\n",
              "}\n",
              "</style><div id=\"sk-container-id-1\" class=\"sk-top-container\"><div class=\"sk-text-repr-fallback\"><pre>CountVectorizer()</pre><b>In a Jupyter environment, please rerun this cell to show the HTML representation or trust the notebook. <br />On GitHub, the HTML representation is unable to render, please try loading this page with nbviewer.org.</b></div><div class=\"sk-container\" hidden><div class=\"sk-item\"><div class=\"sk-estimator fitted sk-toggleable\"><input class=\"sk-toggleable__control sk-hidden--visually\" id=\"sk-estimator-id-1\" type=\"checkbox\" checked><label for=\"sk-estimator-id-1\" class=\"sk-toggleable__label fitted sk-toggleable__label-arrow fitted\">&nbsp;&nbsp;CountVectorizer<a class=\"sk-estimator-doc-link fitted\" rel=\"noreferrer\" target=\"_blank\" href=\"https://scikit-learn.org/1.5/modules/generated/sklearn.feature_extraction.text.CountVectorizer.html\">?<span>Documentation for CountVectorizer</span></a><span class=\"sk-estimator-doc-link fitted\">i<span>Fitted</span></span></label><div class=\"sk-toggleable__content fitted\"><pre>CountVectorizer()</pre></div> </div></div></div></div>"
            ]
          },
          "metadata": {},
          "execution_count": 7
        }
      ]
    },
    {
      "cell_type": "code",
      "source": [
        "print(vetorizador.vocabulary_)"
      ],
      "metadata": {
        "colab": {
          "base_uri": "https://localhost:8080/"
        },
        "id": "yW9YbPDHbxY8",
        "outputId": "affffd9f-0484-486d-98ff-c6f430bd67af"
      },
      "execution_count": 8,
      "outputs": [
        {
          "output_type": "stream",
          "name": "stdout",
          "text": [
            "{'tenha': 4, 'um': 5, 'bom': 0, 'dia': 1, 'péssimo': 2, 'ótimo': 6, 'ruim': 3}\n"
          ]
        }
      ]
    },
    {
      "cell_type": "code",
      "source": [
        "vetor_bom = vetorizador.transform([\"bom\"])\n",
        "print(vetor_bom.toarray())"
      ],
      "metadata": {
        "colab": {
          "base_uri": "https://localhost:8080/"
        },
        "id": "7yzY9v0Jb5Z8",
        "outputId": "a1862206-d19e-493d-c44c-96ad0bb913ad"
      },
      "execution_count": 9,
      "outputs": [
        {
          "output_type": "stream",
          "name": "stdout",
          "text": [
            "[[1 0 0 0 0 0 0]]\n"
          ]
        }
      ]
    },
    {
      "cell_type": "code",
      "source": [
        "vetor_um = vetorizador.transform([\"um\"])\n",
        "print(vetor_um.toarray())"
      ],
      "metadata": {
        "colab": {
          "base_uri": "https://localhost:8080/"
        },
        "id": "cFazAAIqcVwG",
        "outputId": "c64e0c4b-be15-49c9-a739-52eb338f1c9f"
      },
      "execution_count": 10,
      "outputs": [
        {
          "output_type": "stream",
          "name": "stdout",
          "text": [
            "[[0 0 0 0 0 1 0]]\n"
          ]
        }
      ]
    },
    {
      "cell_type": "markdown",
      "source": [
        "# Word2vec"
      ],
      "metadata": {
        "id": "35h8VPx8bIq-"
      }
    },
    {
      "cell_type": "code",
      "source": [
        "from gensim.models import KeyedVectors\n",
        "import numpy as np\n"
      ],
      "metadata": {
        "id": "KJiG273YKTrt"
      },
      "execution_count": 53,
      "outputs": []
    },
    {
      "cell_type": "code",
      "source": [
        "!unzip \"/content/cbow_s300.zip\""
      ],
      "metadata": {
        "id": "rs8z4dHdbPPo",
        "colab": {
          "base_uri": "https://localhost:8080/"
        },
        "outputId": "71b2b2a8-184d-442f-d4cf-17cf588c57fd"
      },
      "execution_count": 12,
      "outputs": [
        {
          "output_type": "stream",
          "name": "stdout",
          "text": [
            "Archive:  /content/cbow_s300.zip\n",
            "  inflating: cbow_s300.txt           \n"
          ]
        }
      ]
    },
    {
      "cell_type": "code",
      "source": [
        "model = KeyedVectors.load_word2vec_format(\"/content/cbow_s300.txt\")"
      ],
      "metadata": {
        "id": "6PYSMvnmmKa-"
      },
      "execution_count": 17,
      "outputs": []
    },
    {
      "cell_type": "code",
      "source": [
        "len(model.get_vector('japao'))"
      ],
      "metadata": {
        "colab": {
          "base_uri": "https://localhost:8080/"
        },
        "id": "VjpX2IhfM6dt",
        "outputId": "53f83852-f780-42e7-e51d-62e29b44861e"
      },
      "execution_count": 19,
      "outputs": [
        {
          "output_type": "execute_result",
          "data": {
            "text/plain": [
              "300"
            ]
          },
          "metadata": {},
          "execution_count": 19
        }
      ]
    },
    {
      "cell_type": "code",
      "source": [
        "model.most_similar('x-men')"
      ],
      "metadata": {
        "colab": {
          "base_uri": "https://localhost:8080/"
        },
        "id": "eIurE7D1NMZ8",
        "outputId": "02f123dc-efab-4045-90f0-fc07467c0942"
      },
      "execution_count": 31,
      "outputs": [
        {
          "output_type": "execute_result",
          "data": {
            "text/plain": [
              "[('vingadores', 0.6901994943618774),\n",
              " ('titãs', 0.5481435060501099),\n",
              " ('vilões', 0.5269604325294495),\n",
              " ('wolverine', 0.5259417295455933),\n",
              " ('super-heróis', 0.524213433265686),\n",
              " ('thunderbolts', 0.5063843131065369),\n",
              " ('heróis', 0.5006411671638489),\n",
              " ('mutantes', 0.4931108057498932),\n",
              " ('zumbis', 0.47079893946647644),\n",
              " ('mogadorianos', 0.4705388844013214)]"
            ]
          },
          "metadata": {},
          "execution_count": 31
        }
      ]
    },
    {
      "cell_type": "code",
      "source": [
        "model.most_similar(positive=[\"dc\",\"marvel\"])"
      ],
      "metadata": {
        "colab": {
          "base_uri": "https://localhost:8080/"
        },
        "id": "Rcx6To96Q7k_",
        "outputId": "c8df1be9-2e5c-4805-efc2-fd20e92c997b"
      },
      "execution_count": 35,
      "outputs": [
        {
          "output_type": "execute_result",
          "data": {
            "text/plain": [
              "[('timely', 0.7087664604187012),\n",
              " ('nedor', 0.6748367547988892),\n",
              " ('panini', 0.571498692035675),\n",
              " ('wildstorm', 0.5172005891799927),\n",
              " ('mlj', 0.5102024078369141),\n",
              " ('crossgen', 0.5045009851455688),\n",
              " ('fawcett', 0.5008060932159424),\n",
              " ('archie', 0.49644556641578674),\n",
              " ('aircel', 0.4961481988430023),\n",
              " ('detective', 0.4733356833457947)]"
            ]
          },
          "metadata": {},
          "execution_count": 35
        }
      ]
    },
    {
      "cell_type": "code",
      "source": [
        "model.most_similar(positive=[\"nuvens\",\"estrela\"], negative=[\"nuvem\"])"
      ],
      "metadata": {
        "colab": {
          "base_uri": "https://localhost:8080/"
        },
        "id": "cuJ2qSh6S5vG",
        "outputId": "390f6e54-3b67-4822-dd9d-1cc5dd09511e"
      },
      "execution_count": 36,
      "outputs": [
        {
          "output_type": "execute_result",
          "data": {
            "text/plain": [
              "[('estrelas', 0.5497430562973022),\n",
              " ('plêiades', 0.3791979253292084),\n",
              " ('colinas', 0.3746805489063263),\n",
              " ('trovoadas', 0.373703271150589),\n",
              " ('sombras', 0.37341946363449097),\n",
              " ('pombas', 0.3726757764816284),\n",
              " ('corredoras', 0.3640727400779724),\n",
              " ('cigarras', 0.36065396666526794),\n",
              " ('galáxias', 0.35754913091659546),\n",
              " ('luas', 0.3575345277786255)]"
            ]
          },
          "metadata": {},
          "execution_count": 36
        }
      ]
    },
    {
      "cell_type": "code",
      "source": [
        "model.most_similar(positive=[\"medico\",\"mulher\"], negative=[\"homem\"])"
      ],
      "metadata": {
        "colab": {
          "base_uri": "https://localhost:8080/"
        },
        "id": "8xIXKpiswsQn",
        "outputId": "ac61863d-6a3e-4834-cbff-186f021b8de8"
      },
      "execution_count": 44,
      "outputs": [
        {
          "output_type": "execute_result",
          "data": {
            "text/plain": [
              "[('enfermeira', 0.5567789077758789),\n",
              " ('esposa', 0.540894627571106),\n",
              " ('mãe', 0.5147395730018616),\n",
              " ('filha', 0.5052310824394226),\n",
              " ('namorada', 0.4970565736293793),\n",
              " ('filhinha', 0.49672731757164),\n",
              " ('irmã', 0.49583038687705994),\n",
              " ('parenta', 0.4849744439125061),\n",
              " ('sobrinha', 0.4843062162399292),\n",
              " ('babá', 0.48186033964157104)]"
            ]
          },
          "metadata": {},
          "execution_count": 44
        }
      ]
    },
    {
      "cell_type": "markdown",
      "source": [
        "## Vetorização de texto"
      ],
      "metadata": {
        "id": "wkAn7QbT1PHR"
      }
    },
    {
      "cell_type": "code",
      "source": [
        "import nltk\n",
        "import string\n",
        "nltk.download('punkt_tab')"
      ],
      "metadata": {
        "colab": {
          "base_uri": "https://localhost:8080/"
        },
        "id": "b0R_POjg2X9D",
        "outputId": "34b7b41f-9e03-4627-add7-09be3297076a"
      },
      "execution_count": 51,
      "outputs": [
        {
          "output_type": "stream",
          "name": "stderr",
          "text": [
            "[nltk_data] Downloading package punkt_tab to /root/nltk_data...\n",
            "[nltk_data]   Unzipping tokenizers/punkt_tab.zip.\n"
          ]
        },
        {
          "output_type": "execute_result",
          "data": {
            "text/plain": [
              "True"
            ]
          },
          "metadata": {},
          "execution_count": 51
        }
      ]
    },
    {
      "cell_type": "code",
      "source": [
        "# Analise da estrutura do texto\n",
        "artigo_treino.title.loc[12]"
      ],
      "metadata": {
        "colab": {
          "base_uri": "https://localhost:8080/",
          "height": 36
        },
        "id": "ALYYYWi81TZ4",
        "outputId": "38685769-e43c-4de1-c22c-bd6c62dd21c4"
      },
      "execution_count": 46,
      "outputs": [
        {
          "output_type": "execute_result",
          "data": {
            "text/plain": [
              "\"Daniel Craig será stormtrooper em novo 'Star Wars', diz ator\""
            ],
            "application/vnd.google.colaboratory.intrinsic+json": {
              "type": "string"
            }
          },
          "metadata": {},
          "execution_count": 46
        }
      ]
    },
    {
      "cell_type": "code",
      "source": [
        "def tokenizador(texto):\n",
        "  texto_minusculo = texto.lower()\n",
        "  lista_alfanumerico = []\n",
        "  for token_valido in nltk.word_tokenize(texto_minusculo):\n",
        "    if token_valido in string.punctuation: continue\n",
        "    lista_alfanumerico.append(token_valido)\n",
        "  return lista_alfanumerico"
      ],
      "metadata": {
        "id": "Ghjjxh9v1rbH"
      },
      "execution_count": 49,
      "outputs": []
    },
    {
      "cell_type": "code",
      "source": [
        "tokenizador(artigo_treino.title.loc[12])"
      ],
      "metadata": {
        "colab": {
          "base_uri": "https://localhost:8080/"
        },
        "id": "kth_85gD3B53",
        "outputId": "2b64a877-7ca6-4315-eb50-d00782751ab5"
      },
      "execution_count": 52,
      "outputs": [
        {
          "output_type": "execute_result",
          "data": {
            "text/plain": [
              "['daniel',\n",
              " 'craig',\n",
              " 'será',\n",
              " 'stormtrooper',\n",
              " 'em',\n",
              " 'novo',\n",
              " \"'star\",\n",
              " 'wars',\n",
              " 'diz',\n",
              " 'ator']"
            ]
          },
          "metadata": {},
          "execution_count": 52
        }
      ]
    },
    {
      "cell_type": "code",
      "source": [
        "def combinacao_vetores_por_soma(palavras):\n",
        "  vetor_resultante = np.zeros(300)\n",
        "  for token in palavras:\n",
        "    try:\n",
        "      vetor_resultante += model.get_vector(token)\n",
        "    except KeyError:\n",
        "      if token.isnumeric():\n",
        "        token = \"0\"*len(token)\n",
        "        vetor_resultante += model.get_vector(token)\n",
        "      else:\n",
        "        vetor_resultante += model.get_vector(\"unknow\")\n",
        "\n",
        "  return vetor_resultante"
      ],
      "metadata": {
        "id": "KRcjNIAB58Bx"
      },
      "execution_count": 67,
      "outputs": []
    },
    {
      "cell_type": "code",
      "source": [
        "palavras = tokenizador(artigo_treino.title.loc[12])\n",
        "vetor_resultante = combinacao_vetores_por_soma(palavras)\n",
        "print(len(vetor_resultante))\n",
        "print(vetor_resultante)"
      ],
      "metadata": {
        "colab": {
          "base_uri": "https://localhost:8080/"
        },
        "id": "jT485w-E72dT",
        "outputId": "9c7b1d09-9cab-4ec5-cb2a-ca5903f02544"
      },
      "execution_count": 71,
      "outputs": [
        {
          "output_type": "stream",
          "name": "stdout",
          "text": [
            "300\n",
            "[ 1.409091   -0.14778899 -0.15712103 -0.22756499  0.33947702  0.04513202\n",
            "  0.10606999 -0.02744501  0.34897399 -0.622258   -1.18768101  0.07594701\n",
            "  0.734674    0.605006   -1.41548402  0.231505   -0.93393402 -0.044746\n",
            " -1.116989   -0.01408298 -2.22429901 -0.98166602 -0.77250701  0.607256\n",
            "  0.63582001  0.184902   -0.65532703  0.45974298  0.819684    0.61843801\n",
            "  1.26487099 -0.23633801  0.39783901  0.68037201 -0.58962901  0.164664\n",
            "  0.755284   -0.30015901 -0.85412398  0.60202201 -1.16588299  0.55755499\n",
            "  1.20059     0.41932302  0.069055    1.11085396  0.07674501 -0.750762\n",
            "  1.22592399 -0.51450599  0.05619898 -0.45865     1.11803401  0.560228\n",
            " -0.69264403 -0.32368899 -0.004358    0.53267698  0.03769496  0.164821\n",
            " -0.87106599 -0.273875    0.43975404  0.11239799 -0.48971699  0.38454201\n",
            "  0.66049697  0.53603198 -0.70654999 -0.31440599 -0.45960598  0.06693399\n",
            " -0.196609   -0.23975599  0.384431   -0.69159699 -0.75968804 -0.58382899\n",
            " -1.405958   -0.19831699 -0.50192397  0.055928   -0.428562    1.06242001\n",
            " -0.213364    0.968831   -0.55935801 -0.36087301 -0.12462599 -1.00949499\n",
            "  0.405096    0.42394899 -0.701538   -0.59448496  0.70613999 -0.23811301\n",
            "  0.93991002  0.480367    0.080417   -0.72330801  1.20255302 -0.19792201\n",
            "  0.30651499 -0.414026    1.82350298  0.75891503  0.33616603  0.06847399\n",
            " -0.67825499  1.05189801  0.82673499 -0.110185   -0.55042502  0.091852\n",
            " -0.620256   -0.123803    0.99808301  1.231889   -0.33700601  0.466297\n",
            "  0.03868199  0.02256399 -0.16907399  0.58268902 -0.76692     0.112361\n",
            " -0.69585399 -0.17263698  0.37268799  0.376542   -0.233536   -0.15756699\n",
            "  0.06412701 -0.455887   -0.936072    0.36489703  0.99389101 -0.37448001\n",
            " -0.18875099  0.75209998 -0.17047701  0.13440302  0.558721    0.06620402\n",
            " -0.047314    0.20447702  0.74176702 -0.17708501  0.62722897 -0.69519199\n",
            " -0.314534    0.74955599 -0.59446699  0.06371801 -0.06339901 -0.063223\n",
            "  0.95001803 -0.63200799  0.28964599 -0.39273399 -0.496572    0.40965702\n",
            " -0.13383701 -0.54114699  0.98818499  1.014144    0.20009699 -0.44833701\n",
            " -0.521261   -0.541538   -0.74076301 -0.41066799 -0.66652997 -0.80599401\n",
            " -0.28975201 -1.35542499  0.88541499  0.57165099 -0.48351598  0.166317\n",
            "  0.80297498 -0.343482   -0.459577    1.61902399 -0.17817897 -0.65189099\n",
            "  0.97328101 -0.21680899 -0.43127103 -0.234999    0.26186601 -0.556904\n",
            "  0.366739    0.84125599 -0.34376004  0.80159298 -0.25455902 -0.04429601\n",
            "  0.764548   -0.531341   -0.070526    0.660595   -1.09945901 -0.92839601\n",
            " -1.42510702  0.49068399  0.206988    1.40682499  1.17752697  0.83138299\n",
            "  0.20037699 -0.446397    1.246317   -0.60945503 -0.928374   -0.06299998\n",
            "  0.21478    -0.41343898 -0.47793996  0.31768799 -0.08819301  0.888445\n",
            " -0.37661701 -0.825695   -0.21172299 -0.34471199 -0.28161697 -1.08359303\n",
            "  0.443456    0.19476102  0.390588    0.629646   -0.99418501 -0.22632501\n",
            "  0.53215401 -0.12467699  0.058408   -0.14586401 -0.62979999 -0.486818\n",
            " -0.31810899 -0.34484002  0.21172001  0.353741    0.79548099 -1.04738401\n",
            "  0.88159798 -0.102819    0.43135898 -0.14093099  0.84223802  0.51675002\n",
            "  0.22838402 -0.13231199 -0.01876101 -0.391787   -0.97354501  0.07602298\n",
            " -0.112939    0.146132   -0.27205499  0.06780598  0.86301401  0.26197702\n",
            " -0.454014    0.67517399  0.15869798  0.77715101  0.145275   -0.341738\n",
            " -0.56245499  0.083551   -1.03028996  0.27189801  0.820349    0.134107\n",
            " -0.75535    -0.65520403 -0.20877401  0.38256099 -0.71232701 -0.150667\n",
            "  0.70375699  0.177832    0.263908   -0.55774803 -0.14616199 -1.58150003\n",
            " -0.04380099  0.079114   -0.35223902 -0.34889102  0.634852   -1.14170001\n",
            "  0.033235    1.060855    0.61363799  0.25892602 -0.919912    0.30991598]\n"
          ]
        }
      ]
    },
    {
      "cell_type": "code",
      "source": [],
      "metadata": {
        "id": "vrm_CcAh7z1e"
      },
      "execution_count": null,
      "outputs": []
    }
  ]
}